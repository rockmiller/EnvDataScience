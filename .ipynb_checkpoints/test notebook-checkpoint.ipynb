{
 "cells": [
  {
   "cell_type": "code",
   "execution_count": 2,
   "metadata": {
    "scrolled": true
   },
   "outputs": [
    {
     "name": "stdout",
     "output_type": "stream",
     "text": [
      "1 , 1\n",
      "2 , 4\n",
      "3 , 9\n",
      "4 , 16\n",
      "5 , 25\n",
      "6 , 36\n",
      "7 , 49\n",
      "8 , 64\n",
      "9 , 81\n",
      "10 , 100\n",
      "11 , 121\n",
      "12 , 144\n",
      "13 , 169\n",
      "14 , 196\n",
      "15 , 225\n",
      "16 , 256\n",
      "17 , 289\n",
      "18 , 324\n",
      "19 , 361\n",
      "20 , 400\n"
     ]
    }
   ],
   "source": [
    "for a in range(1,21):\n",
    "    print(a,\",\",a**2)"
   ]
  },
  {
   "cell_type": "code",
   "execution_count": 3,
   "metadata": {},
   "outputs": [
    {
     "name": "stdout",
     "output_type": "stream",
     "text": [
      "1 , 1\n",
      "2 , 8\n",
      "3 , 27\n",
      "4 , 64\n",
      "5 , 125\n",
      "6 , 216\n",
      "7 , 343\n",
      "8 , 512\n",
      "9 , 729\n",
      "10 , 1000\n",
      "11 , 1331\n",
      "12 , 1728\n",
      "13 , 2197\n",
      "14 , 2744\n",
      "15 , 3375\n",
      "16 , 4096\n",
      "17 , 4913\n",
      "18 , 5832\n",
      "19 , 6859\n",
      "20 , 8000\n"
     ]
    }
   ],
   "source": [
    "for a in range(1,21):\n",
    "    print(a,\",\",a**3)"
   ]
  },
  {
   "cell_type": "code",
   "execution_count": null,
   "metadata": {},
   "outputs": [],
   "source": []
  }
 ],
 "metadata": {
  "kernelspec": {
   "display_name": "Python 3 (ipykernel)",
   "language": "python",
   "name": "python3"
  },
  "language_info": {
   "codemirror_mode": {
    "name": "ipython",
    "version": 3
   },
   "file_extension": ".py",
   "mimetype": "text/x-python",
   "name": "python",
   "nbconvert_exporter": "python",
   "pygments_lexer": "ipython3",
   "version": "3.11.5"
  }
 },
 "nbformat": 4,
 "nbformat_minor": 4
}

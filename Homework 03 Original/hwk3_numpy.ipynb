{
 "cells": [
  {
   "cell_type": "markdown",
   "id": "8d6ffd31-903c-4c0d-b49d-a9625f9b2c1c",
   "metadata": {},
   "source": [
    "## HWK 5 -  Numpy "
   ]
  },
  {
   "cell_type": "code",
   "execution_count": 2,
   "id": "f41ec95e-bcb4-4b94-beca-fa21b15c5774",
   "metadata": {},
   "outputs": [],
   "source": [
    "import numpy as np"
   ]
  },
  {
   "cell_type": "markdown",
   "id": "f62b8411-59f5-44d7-a1cc-30f60caa6604",
   "metadata": {},
   "source": [
    "## Exercise #1 "
   ]
  },
  {
   "cell_type": "code",
   "execution_count": 4,
   "id": "98ed1113-9c19-4582-bd28-0503efec54cd",
   "metadata": {},
   "outputs": [
    {
     "data": {
      "text/plain": [
       "array([[225, 196, 169, 144, 121, 100],\n",
       "       [ 81,  64,  49,  36,  25,  16],\n",
       "       [  9,   4,   1,   0,   1,   4],\n",
       "       [  9,  16,  25,  36,  49,  64],\n",
       "       [ 81, 100, 121, 144, 169, 196]], dtype=int32)"
      ]
     },
     "execution_count": 4,
     "metadata": {},
     "output_type": "execute_result"
    }
   ],
   "source": [
    "a = np.arange(-15, 15).reshape(5,6)**2\n",
    "a\n",
    "        "
   ]
  },
  {
   "cell_type": "markdown",
   "id": "575eeeb5-732f-4f62-9131-77dbf88b6fae",
   "metadata": {},
   "source": [
    "1. compute the maximum of each row\n",
    "2. the mean of each column\n",
    "3. The position of the overall minimum"
   ]
  },
  {
   "cell_type": "code",
   "execution_count": null,
   "id": "b306279a-1f0e-44d9-83dd-78d5e1a3c114",
   "metadata": {},
   "outputs": [],
   "source": []
  },
  {
   "cell_type": "markdown",
   "id": "10ae82a7-0721-4096-8d84-c10f9a6a8fb8",
   "metadata": {},
   "source": [
    "## Exercises #2 \n",
    "NYC montly temperature data format: \n",
    "Average Monthly & Annual Temperatures at Central Park,,,,,,,,,,,,,\n",
    "YEAR,JAN,FEB,MAR,APR,MAY,JUN,JUL,AUG,SEP,OCT,NOV,DEC,ANNUAL"
   ]
  },
  {
   "cell_type": "code",
   "execution_count": 5,
   "id": "8828bba7-c7ab-4f68-859d-4fa8613b6156",
   "metadata": {},
   "outputs": [
    {
     "data": {
      "text/plain": [
       "array([[2000. ,   31.3,   37.3,   47.2,   51. ,   63.5,   71.3,   72.3,\n",
       "          72.7,   66. ,   57. ,   45.3,   31.1,   53.9],\n",
       "       [2001. ,   33.6,   35.9,   39.6,   54.2,   63.8,   72.9,   73.2,\n",
       "          78.7,   67.7,   58.5,   52.7,   44.1,   56.3],\n",
       "       [2002. ,   39.9,   40.6,   44.1,   56.1,   60.7,   71.4,   78.8,\n",
       "          77.7,   70.2,   55.2,   46. ,   36. ,   56.4],\n",
       "       [2003. ,   27.5,   30.1,   43.1,   49.8,   58.7,   68.3,   75.8,\n",
       "          76.7,   67.9,   55.1,   50. ,   37.6,   53.4],\n",
       "       [2004. ,   24.7,   35. ,   43.5,   53.6,   65.2,   71.2,   74.5,\n",
       "          74.2,   69.3,   56. ,   48.2,   38.4,   54.5],\n",
       "       [2005. ,   31.3,   36.5,   39.4,   55.1,   58.9,   74. ,   77.5,\n",
       "          79.7,   73.3,   57.9,   49.6,   35.3,   55.8],\n",
       "       [2006. ,   40.9,   35.7,   43.1,   55.7,   63.1,   71. ,   77.9,\n",
       "          75.8,   66.6,   56.2,   51.9,   43.6,   56.8],\n",
       "       [2007. ,   37.5,   28.2,   42.2,   50.3,   65.2,   71.4,   75. ,\n",
       "          74. ,   70.3,   63.6,   45.4,   37. ,   55. ],\n",
       "       [2008. ,   36.5,   35.8,   42.6,   54.9,   60.1,   74. ,   78.4,\n",
       "          73.8,   68.8,   55.1,   45.8,   38.1,   55.3],\n",
       "       [2009. ,   27.9,   36.7,   42.4,   54.5,   62.5,   67.5,   72.7,\n",
       "          75.7,   66.3,   55. ,   51.2,   35.9,   54. ],\n",
       "       [2010. ,   32.5,   33.1,   48.2,   57.9,   65.3,   74.7,   81.3,\n",
       "          77.4,   71.1,   58.1,   47.9,   32.8,   56.7],\n",
       "       [2011. ,   29.7,   36. ,   42.3,   54.3,   64.5,   72.3,   80.2,\n",
       "          75.3,   70. ,   57.1,   51.9,   43.3,   56.4],\n",
       "       [2012. ,   37.3,   40.9,   50.9,   54.8,   65.1,   71. ,   78.8,\n",
       "          76.7,   68.8,   58. ,   43.9,   41.5,   57.3],\n",
       "       [2013. ,   35.1,   33.9,   40.1,   53. ,   62.8,   72.7,   79.8,\n",
       "          74.6,   67.9,   60.2,   45.3,   38.5,   55.3],\n",
       "       [2014. ,   28.6,   31.6,   37.7,   52.3,   64. ,   72.5,   76.1,\n",
       "          74.5,   69.7,   59.6,   45.3,   40.5,   54.4],\n",
       "       [2015. ,   29.9,   23.9,   38.1,   54.3,   68.5,   71.2,   78.8,\n",
       "          79. ,   74.5,   58. ,   52.8,   50.8,   56.7],\n",
       "       [2016. ,   34.5,   37.7,   48.9,   53.3,   62.8,   72.3,   78.7,\n",
       "          79.2,   71.8,   58.8,   49.8,   38.3,   57.2],\n",
       "       [2017. ,   38. ,   41.6,   39.2,   57.2,   61.1,   72. ,   76.8,\n",
       "          74. ,   70.5,   64.1,   46.6,   33.4,   56.3],\n",
       "       [2018. ,   31.7,   42. ,   40.1,   49.5,   66.9,   71.7,   77.6,\n",
       "          78.1,   70.7,   57.7,   44.4,   40.1,   55.9],\n",
       "       [2019. ,   32.5,   36.2,   41.7,   55.5,   62.2,   71.7,   79.6,\n",
       "          75.5,   70.4,   59.9,   43.9,   38.3,   55.6],\n",
       "       [2020. ,   39.1,   40.1,   48. ,   50.4,   60.3,   73.7,   80. ,\n",
       "          76.9,   68.8,   57.9,   53. ,   39.2,   57.3]])"
      ]
     },
     "execution_count": 5,
     "metadata": {},
     "output_type": "execute_result"
    }
   ],
   "source": [
    "Temp = np.loadtxt('http://www.geography.hunter.cuny.edu/~wenge/EDS2022F/data/NYCMet/CPannualT.csv',skiprows=2,delimiter=',')\n",
    "Temp"
   ]
  },
  {
   "cell_type": "markdown",
   "id": "2f22aa69-8ca5-4d74-9d87-d69c9c1d1609",
   "metadata": {},
   "source": [
    "1. Find out the mean, max, min standard deviation of monthly temperature for all 20 years. \n",
    "2. Find out mean and standard deviation of monthly temperature for each month.\n",
    "3. find the years and months when monthly temperature greater > 80 degree F \n",
    "4. find the years and months when monthly temperature greater < 32 degree F "
   ]
  },
  {
   "cell_type": "code",
   "execution_count": null,
   "id": "b8a47fc4-aa09-4214-bdff-5c0a5e2748cc",
   "metadata": {},
   "outputs": [],
   "source": []
  }
 ],
 "metadata": {
  "kernelspec": {
   "display_name": "Python 3 (ipykernel)",
   "language": "python",
   "name": "python3"
  },
  "language_info": {
   "codemirror_mode": {
    "name": "ipython",
    "version": 3
   },
   "file_extension": ".py",
   "mimetype": "text/x-python",
   "name": "python",
   "nbconvert_exporter": "python",
   "pygments_lexer": "ipython3",
   "version": "3.9.12"
  }
 },
 "nbformat": 4,
 "nbformat_minor": 5
}

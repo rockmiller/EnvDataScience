{
 "cells": [
  {
   "cell_type": "code",
   "execution_count": 1,
   "metadata": {},
   "outputs": [
    {
     "name": "stdout",
     "output_type": "stream",
     "text": [
      "1 , 3\n",
      "2 , 6\n",
      "3 , 9\n",
      "4 , 12\n",
      "5 , 15\n",
      "6 , 18\n",
      "7 , 21\n",
      "8 , 24\n",
      "9 , 27\n",
      "10 , 30\n",
      "11 , 33\n",
      "12 , 36\n",
      "13 , 39\n",
      "14 , 42\n",
      "15 , 45\n",
      "16 , 48\n",
      "17 , 51\n",
      "18 , 54\n",
      "19 , 57\n",
      "20 , 60\n"
     ]
    }
   ],
   "source": [
    "for a in range(1,21):\n",
    "    print(a,\",\",a**3)"
   ]
  }
 ],
 "metadata": {
  "kernelspec": {
   "display_name": "Python 3",
   "language": "python",
   "name": "python3"
  },
  "language_info": {
   "codemirror_mode": {
    "name": "ipython",
    "version": 3
   },
   "file_extension": ".py",
   "mimetype": "text/x-python",
   "name": "python",
   "nbconvert_exporter": "python",
   "pygments_lexer": "ipython3",
   "version": "3.11.5"
  },
  "orig_nbformat": 4
 },
 "nbformat": 4,
 "nbformat_minor": 2
}

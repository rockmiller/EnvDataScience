{
 "cells": [
  {
   "cell_type": "code",
   "execution_count": 3,
   "metadata": {},
   "outputs": [
    {
     "name": "stdout",
     "output_type": "stream",
     "text": [
      "1 , 100\n",
      "2 , 200\n",
      "3 , 300\n",
      "4 , 400\n",
      "5 , 500\n",
      "6 , 600\n",
      "7 , 700\n",
      "8 , 800\n",
      "9 , 900\n",
      "10 , 1000\n",
      "11 , 1100\n",
      "12 , 1200\n",
      "13 , 1300\n",
      "14 , 1400\n",
      "15 , 1500\n",
      "16 , 1600\n",
      "17 , 1700\n",
      "18 , 1800\n",
      "19 , 1900\n",
      "20 , 2000\n"
     ]
    }
   ],
   "source": [
    "for a in range(1,21):\n",
    "    print(a,\",\",a*10)"
   ]
  }
 ],
 "metadata": {
  "kernelspec": {
   "display_name": "Python 3",
   "language": "python",
   "name": "python3"
  },
  "language_info": {
   "codemirror_mode": {
    "name": "ipython",
    "version": 3
   },
   "file_extension": ".py",
   "mimetype": "text/x-python",
   "name": "python",
   "nbconvert_exporter": "python",
   "pygments_lexer": "ipython3",
   "version": "3.11.5"
  },
  "orig_nbformat": 4
 },
 "nbformat": 4,
 "nbformat_minor": 2
}

{
 "cells": [
  {
   "cell_type": "code",
   "execution_count": 2,
   "metadata": {},
   "outputs": [
    {
     "name": "stdout",
     "output_type": "stream",
     "text": [
      "1 , 1\n",
      "2 , 8\n",
      "3 , 27\n",
      "4 , 64\n",
      "5 , 125\n",
      "6 , 216\n",
      "7 , 343\n",
      "8 , 512\n",
      "9 , 729\n",
      "10 , 1000\n",
      "11 , 1331\n",
      "12 , 1728\n",
      "13 , 2197\n",
      "14 , 2744\n",
      "15 , 3375\n",
      "16 , 4096\n",
      "17 , 4913\n",
      "18 , 5832\n",
      "19 , 6859\n",
      "20 , 8000\n"
     ]
    }
   ],
   "source": [
    "for a in range(1,21):\n",
    "    print(a,\",\",a*100)"
   ]
  }
 ],
 "metadata": {
  "kernelspec": {
   "display_name": "Python 3",
   "language": "python",
   "name": "python3"
  },
  "language_info": {
   "codemirror_mode": {
    "name": "ipython",
    "version": 3
   },
   "file_extension": ".py",
   "mimetype": "text/x-python",
   "name": "python",
   "nbconvert_exporter": "python",
   "pygments_lexer": "ipython3",
   "version": "3.11.5"
  },
  "orig_nbformat": 4
 },
 "nbformat": 4,
 "nbformat_minor": 2
}
